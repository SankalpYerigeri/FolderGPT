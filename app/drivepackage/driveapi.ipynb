{
 "cells": [
  {
   "cell_type": "code",
   "execution_count": 34,
   "metadata": {},
   "outputs": [],
   "source": [
    "import os.path\n",
    "\n",
    "from google.auth.transport.requests import Request\n",
    "from google.oauth2.credentials import Credentials\n",
    "from google_auth_oauthlib.flow import InstalledAppFlow\n",
    "from googleapiclient.discovery import build\n",
    "from googleapiclient.errors import HttpError\n",
    "from googleapiclient.http import MediaIoBaseDownload\n",
    "import io\n",
    "import requests"
   ]
  },
  {
   "cell_type": "code",
   "execution_count": 35,
   "metadata": {},
   "outputs": [],
   "source": [
    "SCOPES = ['https://www.googleapis.com/auth/drive']\n"
   ]
  },
  {
   "cell_type": "markdown",
   "metadata": {},
   "source": [
    "### Checking for Credentials to authorize the user"
   ]
  },
  {
   "cell_type": "code",
   "execution_count": 36,
   "metadata": {},
   "outputs": [],
   "source": [
    "creds = None\n",
    "\n",
    "CLIENT_SECRET_FILE = r\"C:\\Users\\sanka\\OneDrive\\Desktop\\FolderGPT\\app\\credentials.json\"\n",
    "  \n",
    "if os.path.exists(\"token.json\"):\n",
    "    creds = Credentials.from_authorized_user_file(\"token.json\", SCOPES)\n",
    "  \n",
    "if not creds or not creds.valid:\n",
    "    if creds and creds.expired and creds.refresh_token:\n",
    "      creds.refresh(Request())\n",
    "    else:\n",
    "      flow = InstalledAppFlow.from_client_secrets_file(\n",
    "          CLIENT_SECRET_FILE, SCOPES\n",
    "      )\n",
    "      creds = flow.run_local_server(port=0)\n",
    "    \n",
    "    with open(\"token.json\", \"w\") as token:\n",
    "      token.write(creds.to_json())    "
   ]
  },
  {
   "cell_type": "markdown",
   "metadata": {},
   "source": [
    "### Getting the files list"
   ]
  },
  {
   "cell_type": "code",
   "execution_count": 37,
   "metadata": {},
   "outputs": [
    {
     "name": "stdout",
     "output_type": "stream",
     "text": [
      "[{'id': '1FjK8PyGm7GtT1XDOBqCavbaeI9IdMh4D', 'name': 'Untitled1.ipynb'}, {'id': '1UYYScnjt45X6DamGDB5tEDMIsjCm-XlL', 'name': 'FolderGPT.ipynb'}, {'id': '1mkzqB4C5IvXdbVA_DVc6AhpegvXVHED1', 'name': 'FolderGPT test'}, {'id': '1LZEOMWfid15kVbuFOCRit6YE2ZlVJi1R', 'name': 'foo.txt'}, {'id': '13XkVvZtbBP-slP7ZawdEIEl_DwGFh4sd', 'name': 'Colab Notebooks'}, {'id': '1IlAS4yCu0tk6tNVK8vgg-Jxy0PfjSy1s', 'name': 'samplepptx.pptx'}, {'id': '1YdUcRzx4LgPjM354Z0H936RQ5NVrZIXT', 'name': 'Cover Letter.docx'}, {'id': '1EPJH0lOPaHTf4e0BWvNO5m1zjObwXd22Fre8YPyblTc', 'name': 'Attendance'}, {'id': '1IlRissAaSu_cfHktYe1YLqEaMQDgrpDavaJ2oV69dyQ', 'name': 'Untitled spreadsheet'}, {'id': '1YQVHc6LbLkEiFNO8Za8xwx4CsT7UHauy', 'name': 'Sankalp_Resume (11).pdf'}]\n",
      "Files:\n",
      "Untitled1.ipynb (1FjK8PyGm7GtT1XDOBqCavbaeI9IdMh4D)\n",
      "FolderGPT.ipynb (1UYYScnjt45X6DamGDB5tEDMIsjCm-XlL)\n",
      "FolderGPT test (1mkzqB4C5IvXdbVA_DVc6AhpegvXVHED1)\n",
      "foo.txt (1LZEOMWfid15kVbuFOCRit6YE2ZlVJi1R)\n",
      "Colab Notebooks (13XkVvZtbBP-slP7ZawdEIEl_DwGFh4sd)\n",
      "samplepptx.pptx (1IlAS4yCu0tk6tNVK8vgg-Jxy0PfjSy1s)\n",
      "Cover Letter.docx (1YdUcRzx4LgPjM354Z0H936RQ5NVrZIXT)\n",
      "Attendance (1EPJH0lOPaHTf4e0BWvNO5m1zjObwXd22Fre8YPyblTc)\n",
      "Untitled spreadsheet (1IlRissAaSu_cfHktYe1YLqEaMQDgrpDavaJ2oV69dyQ)\n",
      "Sankalp_Resume (11).pdf (1YQVHc6LbLkEiFNO8Za8xwx4CsT7UHauy)\n"
     ]
    }
   ],
   "source": [
    "try:\n",
    "    service = build(\"drive\", \"v3\", credentials=creds)\n",
    "\n",
    "    # Call the Drive v3 API\n",
    "    results = (\n",
    "        service.files()\n",
    "        .list(pageSize=10, fields=\"nextPageToken, files(id, name)\")\n",
    "        .execute()\n",
    "    )\n",
    "    items = results.get(\"files\", [])\n",
    "    print(items)\n",
    "\n",
    "    if not items:\n",
    "      print(\"No files found.\")\n",
    "    print(\"Files:\")\n",
    "    for item in items:\n",
    "      print(f\"{item['name']} ({item['id']})\")\n",
    "\n",
    "except HttpError as error:\n",
    "    print(f\"An error occurred: {error}\")\n"
   ]
  },
  {
   "cell_type": "code",
   "execution_count": null,
   "metadata": {},
   "outputs": [
    {
     "name": "stdout",
     "output_type": "stream",
     "text": [
      "Download 100.\n"
     ]
    },
    {
     "ename": "AttributeError",
     "evalue": "'_io.FileIO' object has no attribute 'getvalue'",
     "output_type": "error",
     "traceback": [
      "\u001b[1;31m---------------------------------------------------------------------------\u001b[0m",
      "\u001b[1;31mAttributeError\u001b[0m                            Traceback (most recent call last)",
      "Cell \u001b[1;32mIn[42], line 15\u001b[0m\n\u001b[0;32m     12\u001b[0m     status, done \u001b[38;5;241m=\u001b[39m downloader\u001b[38;5;241m.\u001b[39mnext_chunk()\n\u001b[0;32m     13\u001b[0m     \u001b[38;5;28mprint\u001b[39m(\u001b[38;5;124mf\u001b[39m\u001b[38;5;124m\"\u001b[39m\u001b[38;5;124mDownload \u001b[39m\u001b[38;5;132;01m{\u001b[39;00m\u001b[38;5;28mint\u001b[39m(status\u001b[38;5;241m.\u001b[39mprogress()\u001b[38;5;250m \u001b[39m\u001b[38;5;241m*\u001b[39m\u001b[38;5;250m \u001b[39m\u001b[38;5;241m100\u001b[39m)\u001b[38;5;132;01m}\u001b[39;00m\u001b[38;5;124m.\u001b[39m\u001b[38;5;124m\"\u001b[39m)\n\u001b[1;32m---> 15\u001b[0m \u001b[38;5;28mprint\u001b[39m(\u001b[43mfh\u001b[49m\u001b[38;5;241;43m.\u001b[39;49m\u001b[43mgetvalue\u001b[49m())\n",
      "\u001b[1;31mAttributeError\u001b[0m: '_io.FileIO' object has no attribute 'getvalue'"
     ]
    }
   ],
   "source": [
    "FILE_ID = \"1YQVHc6LbLkEiFNO8Za8xwx4CsT7UHauy\"\n",
    "\n",
    "request = service.files().get_media(fileId=FILE_ID)\n",
    "\n",
    "fh = io.FileIO('sankalp', 'wb')\n",
    "\n",
    "downloader = MediaIoBaseDownload(fh, request)\n",
    "\n",
    "done = False\n",
    "\n",
    "while done is False:\n",
    "    status, done = downloader.next_chunk()\n",
    "    print(f\"Download {int(status.progress() * 100)}.\")\n",
    "\n",
    "\n",
    "\n",
    "\n"
   ]
  },
  {
   "cell_type": "code",
   "execution_count": 40,
   "metadata": {},
   "outputs": [
    {
     "name": "stdout",
     "output_type": "stream",
     "text": [
      "<Response [404]>\n"
     ]
    }
   ],
   "source": [
    "url = f\"https://www.googleapis.com/drive/v3/files/{FILE_ID}/download\"\n",
    "\n",
    "r = requests.get(url, allow_redirects=True)\n",
    "\n",
    "\n",
    "\n",
    "print(r)"
   ]
  }
 ],
 "metadata": {
  "kernelspec": {
   "display_name": "myenv",
   "language": "python",
   "name": "python3"
  },
  "language_info": {
   "codemirror_mode": {
    "name": "ipython",
    "version": 3
   },
   "file_extension": ".py",
   "mimetype": "text/x-python",
   "name": "python",
   "nbconvert_exporter": "python",
   "pygments_lexer": "ipython3",
   "version": "3.13.1"
  }
 },
 "nbformat": 4,
 "nbformat_minor": 2
}
