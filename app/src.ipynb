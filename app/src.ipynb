{
 "cells": [
  {
   "cell_type": "code",
   "execution_count": 16,
   "metadata": {},
   "outputs": [
    {
     "name": "stdout",
     "output_type": "stream",
     "text": [
      "['EP-1.pdf', 'EP-2.pdf']\n"
     ]
    }
   ],
   "source": [
    "import os\n",
    "\n",
    "curr_dir = os.listdir(\".\")\n",
    "\n",
    "curr_dir_pdf_files = [file for file in curr_dir if file.endswith(\".pdf\")]\n",
    "print(curr_dir_pdf_files)\n",
    "\n",
    "MODEL = \"llama3.2\""
   ]
  },
  {
   "cell_type": "code",
   "execution_count": 17,
   "metadata": {},
   "outputs": [],
   "source": [
    "from langchain_community.document_loaders import PyPDFLoader\n",
    "\n",
    "pages = []\n",
    "\n",
    "for PDF_FILE in curr_dir_pdf_files:\n",
    "    loader = PyPDFLoader(PDF_FILE)\n",
    "    pages += loader.load()\n",
    "\n"
   ]
  },
  {
   "cell_type": "code",
   "execution_count": 18,
   "metadata": {},
   "outputs": [],
   "source": [
    "from langchain_text_splitters import RecursiveCharacterTextSplitter\n",
    "\n",
    "splitter = RecursiveCharacterTextSplitter(chunk_size=1500, chunk_overlap=100)\n",
    "chunks = splitter.split_documents(pages)\n",
    "\n"
   ]
  },
  {
   "cell_type": "code",
   "execution_count": 19,
   "metadata": {},
   "outputs": [],
   "source": [
    "from langchain_community.vectorstores import FAISS\n",
    "from langchain_community.embeddings import OllamaEmbeddings\n",
    "\n",
    "# Pull the model first\n",
    "\n",
    "# Create the embedding and vectorstore\n",
    "embedding = OllamaEmbeddings(model=\"llama3.2:3b\")\n",
    "vectorstore = FAISS.from_documents(chunks, embedding)"
   ]
  },
  {
   "cell_type": "code",
   "execution_count": 20,
   "metadata": {},
   "outputs": [
    {
     "data": {
      "text/plain": [
       "[Document(id='f7be7b52-b871-49d6-8456-af6b66633cf2', metadata={'source': 'EP-1.pdf', 'page': 1}, page_content='Inception! \\ue081 Namast e-R e act )\\n2\\nSo Let’s begin our Namaste React Journey  \\nIn this course we will study how the React \\nconcepts are actually applied into the industry \\ni.e. into the real world projects.\\nSo are you ready to fall in love with React????\\nIntroducing React.\\nQ ) What is React? Why React is known as ‘React’?\\nReact is a JavaScript Library. The name ‘React’ was chosen \\nbecause the library was designed to allow developers to react \\nto changes in state and data within an application, and to \\nupdate the user interface in a declarative and efficient \\nmanner.\\nQ ) What is Library?\\nLibrary is a collections of prewritten code snippets that can \\nbe used and reused to perform certain tasks. A particular \\nJavaScript library code can be plugged into application code \\nwhich leads to faster development and fewer vulnerabilities to \\nhave errors.\\nExamples: React, jQuery\\nQ ) What is Framework?\\nFramework provides a basic foundation or structure for a \\nwebsite or an application.'),\n",
       " Document(id='72394f89-ace3-4703-a06d-6c4b50b858b1', metadata={'source': 'EP-2.pdf', 'page': 7}, page_content='Igniting Our App! \\ue081 Namast e-R e act )\\n8\\nSuper fast build algorithm\\nImage Optimization\\nCaching while development\\nCompression\\nCompatible with older browser versions\\nHttps on dev\\nImage Optimization\\nPort No\\nConsistency Hashing Algorithm\\nZero Config\\nTree Shaking\\n* Transitive Dependencies :\\nWe have our package manager which takes care of our \\ntransitive dependencies of our code.\\nIf we’ve to build a production ready app which uses all \\noptimisations (like minify, bundling, compression, etc), we \\nneed to do all these.\\nBut we can’t do this alone, we need some dependencies on it. \\nThose dependencies are also dependent on other dependencies.'),\n",
       " Document(id='00bc3951-0f62-42b6-bd78-589fb9c4456f', metadata={'source': 'EP-2.pdf', 'page': 9}, page_content='Igniting Our App! \\ue081 Namast e-R e act )\\n10\\n* Tree Shaking:\\nTree shaking is a process of removing the unwanted code that \\nwe do not use while developing the application. \\nIn computing, tree shaking is a dead code elimination \\ntechnique that is applied when optimizing code.'),\n",
       " Document(id='8dd73a83-07e8-4d68-8266-c7953538c6ba', metadata={'source': 'EP-1.pdf', 'page': 5}, page_content='Inception! \\ue081 Namast e-R e act )\\n6\\nThis (id=\\'title\\'), classes, etc should come under {}. Whenever \\nI\\'m passing inside {}, will go as tag attributes of h1.\\n📢NOTE: React will overwrite everything inside \"root\" and \\nreplaces with whatever given inside render.\\nQ ) Do the below HTML code in React?')]"
      ]
     },
     "execution_count": 20,
     "metadata": {},
     "output_type": "execute_result"
    }
   ],
   "source": [
    "retriever = vectorstore.as_retriever()\n",
    "retriever.invoke(\"What is framework?\")"
   ]
  },
  {
   "cell_type": "code",
   "execution_count": 21,
   "metadata": {},
   "outputs": [
    {
     "data": {
      "text/plain": [
       "AIMessage(content=\"I'm not aware of the current Prime Minister of India as my knowledge cutoff is December 2023. However, I can suggest some ways for you to find out the current Prime Minister of India:\\n\\n1. Check online news websites: You can check online news websites such as BBC News, Al Jazeera, or The New York Times for the latest updates on the Indian government.\\n2. Visit the official website of the Government of India: You can visit the official website of the Government of India (www.gov.in) to get information about the current Prime Minister and other government officials.\\n3. Check social media: You can also check the official social media accounts of the Prime Minister's Office or the Government of India to get updates on the current Prime Minister.\\n\\nAs of my knowledge cutoff in December 2023, the Prime Minister of India was Narendra Modi. However, please note that this information may have changed since then.\", additional_kwargs={}, response_metadata={'model': 'llama3.2:3b', 'created_at': '2025-01-11T11:24:27.4105675Z', 'done': True, 'done_reason': 'stop', 'total_duration': 7507609900, 'load_duration': 46850000, 'prompt_eval_count': 32, 'prompt_eval_duration': 21000000, 'eval_count': 185, 'eval_duration': 7436000000, 'message': Message(role='assistant', content='', images=None, tool_calls=None)}, id='run-239b9c8e-ccca-4b41-bbaa-3a0b58097ffb-0', usage_metadata={'input_tokens': 32, 'output_tokens': 185, 'total_tokens': 217})"
      ]
     },
     "execution_count": 21,
     "metadata": {},
     "output_type": "execute_result"
    }
   ],
   "source": [
    "from langchain_ollama import ChatOllama\n",
    "\n",
    "model = ChatOllama(model=\"llama3.2:3b\", temperature=0)\n",
    "model.invoke(\"Who is Prime minister of India?\")"
   ]
  },
  {
   "cell_type": "code",
   "execution_count": 22,
   "metadata": {},
   "outputs": [
    {
     "name": "stdout",
     "output_type": "stream",
     "text": [
      "I'm not aware of the current Prime Minister of India as my knowledge cutoff is December 2023. However, I can suggest some ways for you to find out the current Prime Minister of India:\n",
      "\n",
      "1. Check online news websites: You can check reputable news websites such as BBC News, Al Jazeera, or The Hindu for the latest updates on the Indian government.\n",
      "2. Visit the official website of the Government of India: You can visit the official website of the Government of India (www.gov.in) to get information about the current Prime Minister and other government officials.\n",
      "3. Check social media: You can also check the official social media accounts of the Prime Minister's Office or the Government of India to get updates on the current Prime Minister.\n",
      "\n",
      "As of my knowledge cutoff in December 2023, the Prime Minister of India was Narendra Modi. However, please note that this information may have changed since then.\n"
     ]
    }
   ],
   "source": [
    "from langchain_core.output_parsers import StrOutputParser\n",
    "\n",
    "parser = StrOutputParser()\n",
    "\n",
    "chain = model | parser\n",
    "\n",
    "print(chain.invoke(\"Who is Prime minister of India?\"))"
   ]
  },
  {
   "cell_type": "code",
   "execution_count": 23,
   "metadata": {},
   "outputs": [
    {
     "name": "stdout",
     "output_type": "stream",
     "text": [
      "\n",
      "You are an assistant that provides answers to questions based on\n",
      "a given context. \n",
      "\n",
      "Answer the question based on the context. If you can't answer the\n",
      "question, reply \"I don't know\".\n",
      "\n",
      "Be as concise as possible and go straight to the point.\n",
      "\n",
      "Context: Reactjs is a JavaScript library for building user interfaces\n",
      "\n",
      "Question: What is Reactjs?\n",
      "\n"
     ]
    }
   ],
   "source": [
    "from langchain.prompts import PromptTemplate\n",
    "\n",
    "template =\"\"\"\n",
    "You are an assistant that provides answers to questions based on\n",
    "a given context. \n",
    "\n",
    "Answer the question based on the context. If you can't answer the\n",
    "question, reply \"I don't know\".\n",
    "\n",
    "Be as concise as possible and go straight to the point.\n",
    "\n",
    "Context: {context}\n",
    "\n",
    "Question: {question}\n",
    "\"\"\"\n",
    "\n",
    "prompt = PromptTemplate.from_template(template)\n",
    "print(prompt.format(context=\"Reactjs is a JavaScript library for building user interfaces\", question=\"What is Reactjs?\"))\n",
    "\n"
   ]
  },
  {
   "cell_type": "code",
   "execution_count": 24,
   "metadata": {},
   "outputs": [
    {
     "data": {
      "text/plain": [
       "'Reactjs is a JavaScript library for building reusable UI components.'"
      ]
     },
     "execution_count": 24,
     "metadata": {},
     "output_type": "execute_result"
    }
   ],
   "source": [
    "chain = prompt | model | parser\n",
    "\n",
    "chain.invoke(\n",
    "    {\"context\": \"Reactjs is a JavaScript library for building user interfaces\", \"question\": \"What is Reactjs?\"}\n",
    ")"
   ]
  },
  {
   "cell_type": "code",
   "execution_count": 25,
   "metadata": {},
   "outputs": [],
   "source": [
    "from operator import itemgetter\n",
    "\n",
    "chain = (\n",
    "    {\n",
    "    \"context\" : itemgetter(\"question\") | retriever,\n",
    "    \"question\" : itemgetter(\"question\"),\n",
    "    }\n",
    "    | prompt\n",
    "    | model\n",
    "    | parser\n",
    "    \n",
    ")"
   ]
  },
  {
   "cell_type": "code",
   "execution_count": 26,
   "metadata": {},
   "outputs": [
    {
     "name": "stdout",
     "output_type": "stream",
     "text": [
      "Question: what is package.json?\n",
      "Ansewer : Package.json is a configuration file for NPM that stores information about the generic version of installed packages in a project.\n",
      "************************\n"
     ]
    }
   ],
   "source": [
    "question = input(\"Enter your question: \")\n",
    "\n",
    "print(f\"Question: {question}\")\n",
    "print(f\"Ansewer : {chain.invoke({'question': question})}\")\n",
    "print(\"************************\")"
   ]
  }
 ],
 "metadata": {
  "kernelspec": {
   "display_name": "myenv",
   "language": "python",
   "name": "python3"
  },
  "language_info": {
   "codemirror_mode": {
    "name": "ipython",
    "version": 3
   },
   "file_extension": ".py",
   "mimetype": "text/x-python",
   "name": "python",
   "nbconvert_exporter": "python",
   "pygments_lexer": "ipython3",
   "version": "3.13.1"
  }
 },
 "nbformat": 4,
 "nbformat_minor": 2
}
