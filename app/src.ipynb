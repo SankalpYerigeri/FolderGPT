{
 "cells": [
  {
   "cell_type": "code",
   "execution_count": 20,
   "metadata": {},
   "outputs": [
    {
     "name": "stdout",
     "output_type": "stream",
     "text": [
      "['Cover Letter.docx', 'EP-1.pdf', 'EP-2.pdf', 'samplepptx.pptx']\n"
     ]
    }
   ],
   "source": [
    "import os\n",
    "\n",
    "curr_dir = os.listdir(\".\")\n",
    "\n",
    "extensions = (\".pdf\", \".docx\", \".pptx\")\n",
    "\n",
    "curr_dir_files = [file for file in curr_dir if file.endswith(extensions)]\n",
    "print(curr_dir_files)\n",
    "\n",
    "MODEL = \"llama3.2\""
   ]
  },
  {
   "cell_type": "code",
   "execution_count": null,
   "metadata": {},
   "outputs": [
    {
     "name": "stdout",
     "output_type": "stream",
     "text": [
      "[Document(metadata={'source': 'Cover Letter.docx'}, page_content='Dear Hiring Manager,\\n\\nI am excited to apply for the Associate Full Stack Developer position at ABBYY. With hands-on experience in full-stack development and a background at Iron Mountain, a competitor in the industry, I bring a unique perspective and a proven ability to contribute to innovative solutions.\\n\\nAt Iron Mountain, I developed and optimized applications using technologies such as ReactJS, NodeJS, ExpressJS, and MongoDB. A notable project was DevTinder, a full-stack application where I created RESTful APIs, implemented JWT-based authentication, and ensured database integrity through robust data validation. Leveraging tools like Redux for state management and Tailwind CSS for responsive designs, I focused on delivering efficient and user-centric solutions. Additionally, my experience with real-time problem-solving in cloud-based environments has sharpened my ability to tackle challenges effectively.\\n\\nI admire ABBYY’s commitment to intelligent automation and cutting-edge technology. I am confident that my technical skills, coupled with my understanding of the competitive landscape, can drive impactful contributions to your team. I am particularly eager to collaborate on projects that push the boundaries of machine learning and data extraction—areas where ABBYY excels.\\n\\nI would welcome the opportunity to discuss how my experience and insights can align with ABBYY’s goals. Thank you for considering my application.\\n\\nSincerely,\\nSankalp\\nEmail: sankalpyerigeridar@gmail.com\\n\\nPhone: 8660066058')]\n",
      "[Document(metadata={'source': 'samplepptx.pptx'}, page_content='Sample PowerPoint File\\n\\nSt. Cloud Technical College\\n\\n\\n\\nThis is a Sample Slide\\n\\nHere is an outline of bulleted points\\n\\nYou can print out PPT files as handouts using the \\x0bPRINT > \\x0b  PRINT WHAT > HANDOUTS option')]\n"
     ]
    }
   ],
   "source": [
    "from langchain_community.document_loaders import PyPDFLoader\n",
    "from langchain_community.document_loaders import Docx2txtLoader\n",
    "from langchain_community.document_loaders import UnstructuredPowerPointLoader\n",
    "\n",
    "\n",
    "pages = []\n",
    "\n",
    "for PDF_FILE in curr_dir_files:\n",
    "    loader = PyPDFLoader(PDF_FILE)\n",
    "    pages += loader.load()\n",
    "\n",
    "loader2 = Docx2txtLoader(\"Cover Letter.docx\")\n",
    "pages2 = loader2.load()\n",
    "print(pages2)\n",
    "\n",
    "loader3 = UnstructuredPowerPointLoader(\"samplepptx.pptx\")\n",
    "pages3 = loader3.load()\n",
    "print(pages3)\n",
    "\n"
   ]
  },
  {
   "cell_type": "code",
   "execution_count": 3,
   "metadata": {},
   "outputs": [],
   "source": [
    "from langchain_text_splitters import RecursiveCharacterTextSplitter\n",
    "\n",
    "splitter = RecursiveCharacterTextSplitter(chunk_size=1500, chunk_overlap=100)\n",
    "chunks = splitter.split_documents(pages)\n",
    "\n"
   ]
  },
  {
   "cell_type": "code",
   "execution_count": 4,
   "metadata": {},
   "outputs": [
    {
     "name": "stderr",
     "output_type": "stream",
     "text": [
      "C:\\Users\\sanka\\AppData\\Local\\Temp\\ipykernel_21984\\1393954115.py:7: LangChainDeprecationWarning: The class `OllamaEmbeddings` was deprecated in LangChain 0.3.1 and will be removed in 1.0.0. An updated version of the class exists in the :class:`~langchain-ollama package and should be used instead. To use it run `pip install -U :class:`~langchain-ollama` and import as `from :class:`~langchain_ollama import OllamaEmbeddings``.\n",
      "  embedding = OllamaEmbeddings(model=\"llama3.2:3b\")\n"
     ]
    }
   ],
   "source": [
    "from langchain_community.vectorstores import FAISS\n",
    "from langchain_community.embeddings import OllamaEmbeddings\n",
    "\n",
    "# Pull the model first\n",
    "\n",
    "# Create the embedding and vectorstore\n",
    "embedding = OllamaEmbeddings(model=\"llama3.2:3b\")\n",
    "vectorstore = FAISS.from_documents(chunks, embedding)"
   ]
  },
  {
   "cell_type": "code",
   "execution_count": 5,
   "metadata": {},
   "outputs": [
    {
     "data": {
      "text/plain": [
       "[Document(id='f778f4a7-57f6-4b85-9099-3a0583b98fe2', metadata={'source': 'EP-1.pdf', 'page': 1}, page_content='Inception! \\ue081 Namast e-R e act )\\n2\\nSo Let’s begin our Namaste React Journey  \\nIn this course we will study how the React \\nconcepts are actually applied into the industry \\ni.e. into the real world projects.\\nSo are you ready to fall in love with React????\\nIntroducing React.\\nQ ) What is React? Why React is known as ‘React’?\\nReact is a JavaScript Library. The name ‘React’ was chosen \\nbecause the library was designed to allow developers to react \\nto changes in state and data within an application, and to \\nupdate the user interface in a declarative and efficient \\nmanner.\\nQ ) What is Library?\\nLibrary is a collections of prewritten code snippets that can \\nbe used and reused to perform certain tasks. A particular \\nJavaScript library code can be plugged into application code \\nwhich leads to faster development and fewer vulnerabilities to \\nhave errors.\\nExamples: React, jQuery\\nQ ) What is Framework?\\nFramework provides a basic foundation or structure for a \\nwebsite or an application.'),\n",
       " Document(id='d0baa895-b4d0-41d8-aefc-69098a26ff67', metadata={'source': 'EP-2.pdf', 'page': 7}, page_content='Igniting Our App! \\ue081 Namast e-R e act )\\n8\\nSuper fast build algorithm\\nImage Optimization\\nCaching while development\\nCompression\\nCompatible with older browser versions\\nHttps on dev\\nImage Optimization\\nPort No\\nConsistency Hashing Algorithm\\nZero Config\\nTree Shaking\\n* Transitive Dependencies :\\nWe have our package manager which takes care of our \\ntransitive dependencies of our code.\\nIf we’ve to build a production ready app which uses all \\noptimisations (like minify, bundling, compression, etc), we \\nneed to do all these.\\nBut we can’t do this alone, we need some dependencies on it. \\nThose dependencies are also dependent on other dependencies.'),\n",
       " Document(id='7905dd52-6bd0-4940-a42b-dba2131b46c1', metadata={'source': 'EP-2.pdf', 'page': 9}, page_content='Igniting Our App! \\ue081 Namast e-R e act )\\n10\\n* Tree Shaking:\\nTree shaking is a process of removing the unwanted code that \\nwe do not use while developing the application. \\nIn computing, tree shaking is a dead code elimination \\ntechnique that is applied when optimizing code.'),\n",
       " Document(id='c2a219be-8a87-47e4-b292-3b010bcc0fb3', metadata={'source': 'EP-1.pdf', 'page': 5}, page_content='Inception! \\ue081 Namast e-R e act )\\n6\\nThis (id=\\'title\\'), classes, etc should come under {}. Whenever \\nI\\'m passing inside {}, will go as tag attributes of h1.\\n📢NOTE: React will overwrite everything inside \"root\" and \\nreplaces with whatever given inside render.\\nQ ) Do the below HTML code in React?')]"
      ]
     },
     "execution_count": 5,
     "metadata": {},
     "output_type": "execute_result"
    }
   ],
   "source": [
    "retriever = vectorstore.as_retriever()\n",
    "retriever.invoke(\"What is framework?\")"
   ]
  },
  {
   "cell_type": "code",
   "execution_count": 6,
   "metadata": {},
   "outputs": [
    {
     "data": {
      "text/plain": [
       "AIMessage(content=\"I'm not aware of the current Prime Minister of India as my knowledge cutoff is December 2023. However, I can suggest some ways for you to find out the current Prime Minister of India:\\n\\n1. Check online news websites: You can check online news websites such as BBC News, Al Jazeera, or The New York Times for the latest updates on the Indian government.\\n2. Visit the official website of the Government of India: You can visit the official website of the Government of India (www.gov.in) to get information about the current Prime Minister and other government officials.\\n3. Check social media: You can also check the official social media accounts of the Prime Minister's Office or the Government of India to get updates on the current Prime Minister.\\n\\nAs of my knowledge cutoff in December 2023, the Prime Minister of India was Narendra Modi. However, please note that this information may have changed since then.\", additional_kwargs={}, response_metadata={'model': 'llama3.2:3b', 'created_at': '2025-01-11T12:33:17.6538372Z', 'done': True, 'done_reason': 'stop', 'total_duration': 4875223500, 'load_duration': 55493400, 'prompt_eval_count': 32, 'prompt_eval_duration': 30000000, 'eval_count': 185, 'eval_duration': 4776000000, 'message': Message(role='assistant', content='', images=None, tool_calls=None)}, id='run-a44bf797-03ac-4a4d-a082-a6ac6a028f09-0', usage_metadata={'input_tokens': 32, 'output_tokens': 185, 'total_tokens': 217})"
      ]
     },
     "execution_count": 6,
     "metadata": {},
     "output_type": "execute_result"
    }
   ],
   "source": [
    "from langchain_ollama import ChatOllama\n",
    "\n",
    "model = ChatOllama(model=\"llama3.2:3b\", temperature=0)\n",
    "model.invoke(\"Who is Prime minister of India?\")"
   ]
  },
  {
   "cell_type": "code",
   "execution_count": 7,
   "metadata": {},
   "outputs": [
    {
     "name": "stdout",
     "output_type": "stream",
     "text": [
      "I'm not aware of the current Prime Minister of India as my knowledge cutoff is December 2023. However, I can suggest some ways for you to find out the current Prime Minister of India:\n",
      "\n",
      "1. Check online news websites: You can check reputable news websites such as BBC News, Al Jazeera, or The Hindu for the latest updates on the Indian government.\n",
      "2. Visit the official website of the Government of India: You can visit the official website of the Government of India (www.gov.in) to get information about the current Prime Minister and other government officials.\n",
      "3. Check social media: You can also check the official social media accounts of the Prime Minister's Office or the Government of India to get updates on the current Prime Minister.\n",
      "\n",
      "As of my knowledge cutoff in December 2023, the Prime Minister of India was Narendra Modi. However, please note that this information may have changed since then.\n"
     ]
    }
   ],
   "source": [
    "from langchain_core.output_parsers import StrOutputParser\n",
    "\n",
    "parser = StrOutputParser()\n",
    "\n",
    "chain = model | parser\n",
    "\n",
    "print(chain.invoke(\"Who is Prime minister of India?\"))"
   ]
  },
  {
   "cell_type": "code",
   "execution_count": 8,
   "metadata": {},
   "outputs": [
    {
     "name": "stdout",
     "output_type": "stream",
     "text": [
      "\n",
      "You are an assistant that provides answers to questions based on\n",
      "a given context. \n",
      "\n",
      "Answer the question based on the context. If you can't answer the\n",
      "question, reply \"I don't know\".\n",
      "\n",
      "Be as concise as possible and go straight to the point.\n",
      "\n",
      "Context: Reactjs is a JavaScript library for building user interfaces\n",
      "\n",
      "Question: What is Reactjs?\n",
      "\n"
     ]
    }
   ],
   "source": [
    "from langchain.prompts import PromptTemplate\n",
    "\n",
    "template =\"\"\"\n",
    "You are an assistant that provides answers to questions based on\n",
    "a given context. \n",
    "\n",
    "Answer the question based on the context. If you can't answer the\n",
    "question, reply \"I don't know\".\n",
    "\n",
    "Be as concise as possible and go straight to the point.\n",
    "\n",
    "Context: {context}\n",
    "\n",
    "Question: {question}\n",
    "\"\"\"\n",
    "\n",
    "prompt = PromptTemplate.from_template(template)\n",
    "print(prompt.format(context=\"Reactjs is a JavaScript library for building user interfaces\", question=\"What is Reactjs?\"))\n",
    "\n"
   ]
  },
  {
   "cell_type": "code",
   "execution_count": 9,
   "metadata": {},
   "outputs": [
    {
     "data": {
      "text/plain": [
       "'Reactjs is a JavaScript library for building reusable UI components.'"
      ]
     },
     "execution_count": 9,
     "metadata": {},
     "output_type": "execute_result"
    }
   ],
   "source": [
    "chain = prompt | model | parser\n",
    "\n",
    "chain.invoke(\n",
    "    {\"context\": \"Reactjs is a JavaScript library for building user interfaces\", \"question\": \"What is Reactjs?\"}\n",
    ")"
   ]
  },
  {
   "cell_type": "code",
   "execution_count": 10,
   "metadata": {},
   "outputs": [],
   "source": [
    "from operator import itemgetter\n",
    "\n",
    "chain = (\n",
    "    {\n",
    "    \"context\" : itemgetter(\"question\") | retriever,\n",
    "    \"question\" : itemgetter(\"question\"),\n",
    "    }\n",
    "    | prompt\n",
    "    | model\n",
    "    | parser\n",
    "    \n",
    ")"
   ]
  },
  {
   "cell_type": "code",
   "execution_count": 11,
   "metadata": {},
   "outputs": [
    {
     "name": "stdout",
     "output_type": "stream",
     "text": [
      "Question: What is this about? summarise the content here\n",
      "Ansewer : This appears to be a document containing notes and questions from an EP (Electron Packager) tutorial, likely related to building web applications with React. The content includes boilerplate code for HTML and CSS, discussion on creating a \"Hello World\" program using only HTML or JavaScript, and explanations of various optimization techniques such as image optimization, caching, compression, and tree shaking.\n",
      "************************\n"
     ]
    }
   ],
   "source": [
    "question = input(\"Enter your question: \")\n",
    "\n",
    "print(f\"Question: {question}\")\n",
    "print(f\"Ansewer : {chain.invoke({'question': question})}\")\n",
    "print(\"************************\")"
   ]
  }
 ],
 "metadata": {
  "kernelspec": {
   "display_name": "myenv",
   "language": "python",
   "name": "python3"
  },
  "language_info": {
   "codemirror_mode": {
    "name": "ipython",
    "version": 3
   },
   "file_extension": ".py",
   "mimetype": "text/x-python",
   "name": "python",
   "nbconvert_exporter": "python",
   "pygments_lexer": "ipython3",
   "version": "3.13.1"
  }
 },
 "nbformat": 4,
 "nbformat_minor": 2
}
