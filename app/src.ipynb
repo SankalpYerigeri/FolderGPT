{
 "cells": [
  {
   "cell_type": "code",
   "execution_count": 2,
   "metadata": {},
   "outputs": [],
   "source": [
    "PDF_FILE = \"Reactjs.pdf\"\n",
    "\n",
    "MODEL = \"llama3.2\""
   ]
  },
  {
   "cell_type": "code",
   "execution_count": 3,
   "metadata": {},
   "outputs": [],
   "source": [
    "from langchain_community.document_loaders import PyPDFLoader\n",
    "\n",
    "loader = PyPDFLoader(PDF_FILE)\n",
    "pages = loader.load()\n"
   ]
  },
  {
   "cell_type": "code",
   "execution_count": 4,
   "metadata": {},
   "outputs": [],
   "source": [
    "from langchain_text_splitters import RecursiveCharacterTextSplitter\n",
    "\n",
    "splitter = RecursiveCharacterTextSplitter(chunk_size=1500, chunk_overlap=100)\n",
    "chunks = splitter.split_documents(pages)\n",
    "\n"
   ]
  },
  {
   "cell_type": "code",
   "execution_count": 5,
   "metadata": {},
   "outputs": [
    {
     "name": "stderr",
     "output_type": "stream",
     "text": [
      "C:\\Users\\sanka\\AppData\\Local\\Temp\\ipykernel_11180\\1393954115.py:7: LangChainDeprecationWarning: The class `OllamaEmbeddings` was deprecated in LangChain 0.3.1 and will be removed in 1.0.0. An updated version of the class exists in the :class:`~langchain-ollama package and should be used instead. To use it run `pip install -U :class:`~langchain-ollama` and import as `from :class:`~langchain_ollama import OllamaEmbeddings``.\n",
      "  embedding = OllamaEmbeddings(model=\"llama3.2:3b\")\n"
     ]
    }
   ],
   "source": [
    "from langchain_community.vectorstores import FAISS\n",
    "from langchain_community.embeddings import OllamaEmbeddings\n",
    "\n",
    "# Pull the model first\n",
    "\n",
    "# Create the embedding and vectorstore\n",
    "embedding = OllamaEmbeddings(model=\"llama3.2:3b\")\n",
    "vectorstore = FAISS.from_documents(chunks, embedding)"
   ]
  },
  {
   "cell_type": "code",
   "execution_count": 6,
   "metadata": {},
   "outputs": [
    {
     "data": {
      "text/plain": [
       "[Document(id='6384dd01-fb93-458f-975b-573cc1cb3aa2', metadata={'source': 'Reactjs.pdf', 'page': 1}, page_content='Inception! \\ue081 Namast e-R e act )\\n2\\nSo Let’s begin our Namaste React Journey  \\nIn this course we will study how the React \\nconcepts are actually applied into the industry \\ni.e. into the real world projects.\\nSo are you ready to fall in love with React????\\nIntroducing React.\\nQ ) What is React? Why React is known as ‘React’?\\nReact is a JavaScript Library. The name ‘React’ was chosen \\nbecause the library was designed to allow developers to react \\nto changes in state and data within an application, and to \\nupdate the user interface in a declarative and efficient \\nmanner.\\nQ ) What is Library?\\nLibrary is a collections of prewritten code snippets that can \\nbe used and reused to perform certain tasks. A particular \\nJavaScript library code can be plugged into application code \\nwhich leads to faster development and fewer vulnerabilities to \\nhave errors.\\nExamples: React, jQuery\\nQ ) What is Framework?\\nFramework provides a basic foundation or structure for a \\nwebsite or an application.'),\n",
       " Document(id='151599b7-751f-4e2e-b6f3-fa0a03852a6e', metadata={'source': 'Reactjs.pdf', 'page': 5}, page_content='Inception! \\ue081 Namast e-R e act )\\n6\\nThis (id=\\'title\\'), classes, etc should come under {}. Whenever \\nI\\'m passing inside {}, will go as tag attributes of h1.\\n📢NOTE: React will overwrite everything inside \"root\" and \\nreplaces with whatever given inside render.\\nQ ) Do the below HTML code in React?'),\n",
       " Document(id='e18dfe0a-8609-4a61-951a-33ca9ac85a0c', metadata={'source': 'Reactjs.pdf', 'page': 3}, page_content='Inception! \\ue081 Namast e-R e act )\\n4\\nboiler plate code for writing HTML and CSS.\\nQ ) Create Hello World Program using only HTML?\\nQ ) Create Hello World Program using only JavaScript?'),\n",
       " Document(id='67efb415-2130-4280-af41-179be4951424', metadata={'source': 'Reactjs.pdf', 'page': 4}, page_content='Inception! \\ue081 Namast e-R e act )\\n5\\nQ ) Create Hello World Program using only React?\\n* Cross Origin:\\n   The crossorigin attribute in the script tag enables Cross-\\nOrigin Resource Sharing (CORS) for loading external JavaScript \\nfiles from different origin than the hosting web page. This \\nallows the script to access resources from the server hosting \\nthe script, such as making HTTP requests or accessing data.\\nQ ) What is {} denotes in above code?')]"
      ]
     },
     "execution_count": 6,
     "metadata": {},
     "output_type": "execute_result"
    }
   ],
   "source": [
    "retriever = vectorstore.as_retriever()\n",
    "retriever.invoke(\"What is framework?\")"
   ]
  },
  {
   "cell_type": "code",
   "execution_count": 7,
   "metadata": {},
   "outputs": [
    {
     "data": {
      "text/plain": [
       "AIMessage(content=\"I'm not aware of the current Prime Minister of India as my knowledge cutoff is December 2023. However, I can suggest some ways for you to find out the current Prime Minister of India:\\n\\n1. Check online news websites: You can check online news websites such as BBC News, Al Jazeera, or The New York Times for the latest updates on the Indian government.\\n2. Visit the official website of the Government of India: You can visit the official website of the Government of India (www.gov.in) to get information about the current Prime Minister and other government officials.\\n3. Check social media: You can also check the official social media accounts of the Prime Minister's Office or the Government of India to get updates on the current Prime Minister.\\n\\nAs of my knowledge cutoff in December 2023, the Prime Minister of India was Narendra Modi. However, please note that this information may have changed since then.\", additional_kwargs={}, response_metadata={'model': 'llama3.2:3b', 'created_at': '2025-01-11T10:13:57.1168027Z', 'done': True, 'done_reason': 'stop', 'total_duration': 4999038600, 'load_duration': 75992000, 'prompt_eval_count': 32, 'prompt_eval_duration': 39000000, 'eval_count': 185, 'eval_duration': 4881000000, 'message': Message(role='assistant', content='', images=None, tool_calls=None)}, id='run-396dd577-e0cc-4345-8f16-51b04aa7b225-0', usage_metadata={'input_tokens': 32, 'output_tokens': 185, 'total_tokens': 217})"
      ]
     },
     "execution_count": 7,
     "metadata": {},
     "output_type": "execute_result"
    }
   ],
   "source": [
    "from langchain_ollama import ChatOllama\n",
    "\n",
    "model = ChatOllama(model=\"llama3.2:3b\", temperature=0)\n",
    "model.invoke(\"Who is Prime minister of India?\")"
   ]
  },
  {
   "cell_type": "code",
   "execution_count": 8,
   "metadata": {},
   "outputs": [
    {
     "name": "stdout",
     "output_type": "stream",
     "text": [
      "I'm not aware of the current Prime Minister of India as my knowledge cutoff is December 2023. However, I can suggest some ways for you to find out the current Prime Minister of India:\n",
      "\n",
      "1. Check online news websites: You can check reputable news websites such as BBC News, Al Jazeera, or The Hindu for the latest updates on the Indian government.\n",
      "2. Visit the official website of the Government of India: You can visit the official website of the Government of India (www.gov.in) to get information about the current Prime Minister and other government officials.\n",
      "3. Check social media: You can also check the official social media accounts of the Prime Minister's Office or the Government of India to get updates on the current Prime Minister.\n",
      "\n",
      "As of my knowledge cutoff in December 2023, the Prime Minister of India was Narendra Modi. However, please note that this information may have changed since then.\n"
     ]
    }
   ],
   "source": [
    "from langchain_core.output_parsers import StrOutputParser\n",
    "\n",
    "parser = StrOutputParser()\n",
    "\n",
    "chain = model | parser\n",
    "\n",
    "print(chain.invoke(\"Who is Prime minister of India?\"))"
   ]
  },
  {
   "cell_type": "code",
   "execution_count": 9,
   "metadata": {},
   "outputs": [
    {
     "name": "stdout",
     "output_type": "stream",
     "text": [
      "\n",
      "You are an assistant that provides answers to questions based on\n",
      "a given context. \n",
      "\n",
      "Answer the question based on the context. If you can't answer the\n",
      "question, reply \"I don't know\".\n",
      "\n",
      "Be as concise as possible and go straight to the point.\n",
      "\n",
      "Context: Reactjs is a JavaScript library for building user interfaces\n",
      "\n",
      "Question: What is Reactjs?\n",
      "\n"
     ]
    }
   ],
   "source": [
    "from langchain.prompts import PromptTemplate\n",
    "\n",
    "template =\"\"\"\n",
    "You are an assistant that provides answers to questions based on\n",
    "a given context. \n",
    "\n",
    "Answer the question based on the context. If you can't answer the\n",
    "question, reply \"I don't know\".\n",
    "\n",
    "Be as concise as possible and go straight to the point.\n",
    "\n",
    "Context: {context}\n",
    "\n",
    "Question: {question}\n",
    "\"\"\"\n",
    "\n",
    "prompt = PromptTemplate.from_template(template)\n",
    "print(prompt.format(context=\"Reactjs is a JavaScript library for building user interfaces\", question=\"What is Reactjs?\"))\n",
    "\n"
   ]
  },
  {
   "cell_type": "code",
   "execution_count": 10,
   "metadata": {},
   "outputs": [
    {
     "data": {
      "text/plain": [
       "'Reactjs is a JavaScript library for building reusable UI components.'"
      ]
     },
     "execution_count": 10,
     "metadata": {},
     "output_type": "execute_result"
    }
   ],
   "source": [
    "chain = prompt | model | parser\n",
    "\n",
    "chain.invoke(\n",
    "    {\"context\": \"Reactjs is a JavaScript library for building user interfaces\", \"question\": \"What is Reactjs?\"}\n",
    ")"
   ]
  },
  {
   "cell_type": "code",
   "execution_count": 11,
   "metadata": {},
   "outputs": [],
   "source": [
    "from operator import itemgetter\n",
    "\n",
    "chain = (\n",
    "    {\n",
    "    \"context\" : itemgetter(\"question\") | retriever,\n",
    "    \"question\" : itemgetter(\"question\"),\n",
    "    }\n",
    "    | prompt\n",
    "    | model\n",
    "    | parser\n",
    "    \n",
    ")"
   ]
  },
  {
   "cell_type": "code",
   "execution_count": 12,
   "metadata": {},
   "outputs": [
    {
     "name": "stdout",
     "output_type": "stream",
     "text": [
      "Question: What is ReactJS\n",
      "Ansewer : React is a JavaScript Library, specifically designed to allow developers to \"react\" to changes in state and data within an application, and to update the user interface in a declarative and efficient manner.\n",
      "************************\n"
     ]
    }
   ],
   "source": [
    "question = input(\"Enter your question: \")\n",
    "\n",
    "print(f\"Question: {question}\")\n",
    "print(f\"Ansewer : {chain.invoke({'question': question})}\")\n",
    "print(\"************************\")"
   ]
  }
 ],
 "metadata": {
  "kernelspec": {
   "display_name": "myenv",
   "language": "python",
   "name": "python3"
  },
  "language_info": {
   "codemirror_mode": {
    "name": "ipython",
    "version": 3
   },
   "file_extension": ".py",
   "mimetype": "text/x-python",
   "name": "python",
   "nbconvert_exporter": "python",
   "pygments_lexer": "ipython3",
   "version": "3.13.1"
  }
 },
 "nbformat": 4,
 "nbformat_minor": 2
}
