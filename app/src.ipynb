{
 "cells": [
  {
   "cell_type": "code",
   "execution_count": 1,
   "metadata": {},
   "outputs": [
    {
     "name": "stdout",
     "output_type": "stream",
     "text": [
      "['Cover Letter.docx', 'EP-1.pdf', 'EP-2.pdf', 'samplepptx.pptx']\n"
     ]
    }
   ],
   "source": [
    "import os\n",
    "\n",
    "curr_dir = os.listdir(\".\")\n",
    "\n",
    "extensions = (\".pdf\", \".docx\", \".pptx\")\n",
    "\n",
    "curr_dir_files = [file for file in curr_dir if file.endswith(extensions)]\n",
    "print(curr_dir_files)\n",
    "\n",
    "MODEL = \"llama3.2\""
   ]
  },
  {
   "cell_type": "code",
   "execution_count": 2,
   "metadata": {},
   "outputs": [
    {
     "name": "stdout",
     "output_type": "stream",
     "text": [
      "[Document(metadata={'source': 'Cover Letter.docx'}, page_content='Dear Hiring Manager,\\n\\nI am excited to apply for the Associate Full Stack Developer position at ABBYY. With hands-on experience in full-stack development and a background at Iron Mountain, a competitor in the industry, I bring a unique perspective and a proven ability to contribute to innovative solutions.\\n\\nAt Iron Mountain, I developed and optimized applications using technologies such as ReactJS, NodeJS, ExpressJS, and MongoDB. A notable project was DevTinder, a full-stack application where I created RESTful APIs, implemented JWT-based authentication, and ensured database integrity through robust data validation. Leveraging tools like Redux for state management and Tailwind CSS for responsive designs, I focused on delivering efficient and user-centric solutions. Additionally, my experience with real-time problem-solving in cloud-based environments has sharpened my ability to tackle challenges effectively.\\n\\nI admire ABBYY’s commitment to intelligent automation and cutting-edge technology. I am confident that my technical skills, coupled with my understanding of the competitive landscape, can drive impactful contributions to your team. I am particularly eager to collaborate on projects that push the boundaries of machine learning and data extraction—areas where ABBYY excels.\\n\\nI would welcome the opportunity to discuss how my experience and insights can align with ABBYY’s goals. Thank you for considering my application.\\n\\nSincerely,\\nSankalp\\nEmail: sankalpyerigeridar@gmail.com\\n\\nPhone: 8660066058'), Document(metadata={'source': 'EP-1.pdf', 'page': 0}, page_content='Inception! \\ue081 Namast e-R e act )\\n1\\n🚀\\nInception! ( Namaste-React \\n)\\n💡Please make sure to follow along with the whole ”Namaste \\nReact\" series, starting from Episode-1 and continuing \\nthrough each subsequent episode. The notes are designed \\nto provide detailed explanations of each concept along \\nwith examples to ensure thorough understanding. Each \\nepisode builds upon the knowledge gained from the \\nprevious ones, so starting from the beginning will give \\nyou a comprehensive understanding of React development.\\n💡I\\'ve got a quick tip for you. To get the most out of \\nthese notes, it\\'s a good idea to watch Episode-1 first. \\nUnderstanding what ”Akshay” shares in the video will make \\nthese notes way easier to understand. '), Document(metadata={'source': 'EP-1.pdf', 'page': 1}, page_content='Inception! \\ue081 Namast e-R e act )\\n2\\nSo Let’s begin our Namaste React Journey  \\nIn this course we will study how the React \\nconcepts are actually applied into the industry \\ni.e. into the real world projects.\\nSo are you ready to fall in love with React????\\nIntroducing React.\\nQ ) What is React? Why React is known as ‘React’?\\nReact is a JavaScript Library. The name ‘React’ was chosen \\nbecause the library was designed to allow developers to react \\nto changes in state and data within an application, and to \\nupdate the user interface in a declarative and efficient \\nmanner.\\nQ ) What is Library?\\nLibrary is a collections of prewritten code snippets that can \\nbe used and reused to perform certain tasks. A particular \\nJavaScript library code can be plugged into application code \\nwhich leads to faster development and fewer vulnerabilities to \\nhave errors.\\nExamples: React, jQuery\\nQ ) What is Framework?\\nFramework provides a basic foundation or structure for a \\nwebsite or an application.'), Document(metadata={'source': 'EP-1.pdf', 'page': 2}, page_content='Inception! \\ue081 Namast e-R e act )\\n3\\nExamples: Angular\\nQ ) Similarities between Library and Framework?\\nFrameworks and libraries are code written by third parties to \\nsolve regular/common problems or to optimise performance.\\nQ ) Difference between Library and Framework?\\nA key difference between the two is Inversion of control. When \\nusing a library, the control remains with the developer who \\ntells the application when to call library functions. When \\nusing a framework, the control is reversed, which means that \\nthe framework tells the developer where code needs to be \\nprovided and calls it as it requires.\\n* Emmet:\\nEmmet is the essential toolkit for web-developers. It allows you \\nto type shortcuts that are then expanded into full-fledged '), Document(metadata={'source': 'EP-1.pdf', 'page': 3}, page_content='Inception! \\ue081 Namast e-R e act )\\n4\\nboiler plate code for writing HTML and CSS.\\nQ ) Create Hello World Program using only HTML?\\nQ ) Create Hello World Program using only JavaScript?\\n'), Document(metadata={'source': 'EP-1.pdf', 'page': 4}, page_content='Inception! \\ue081 Namast e-R e act )\\n5\\nQ ) Create Hello World Program using only React?\\n* Cross Origin:\\n   The crossorigin attribute in the script tag enables Cross-\\nOrigin Resource Sharing (CORS) for loading external JavaScript \\nfiles from different origin than the hosting web page. This \\nallows the script to access resources from the server hosting \\nthe script, such as making HTTP requests or accessing data.\\nQ ) What is {} denotes in above code?'), Document(metadata={'source': 'EP-1.pdf', 'page': 5}, page_content='Inception! \\ue081 Namast e-R e act )\\n6\\nThis (id=\\'title\\'), classes, etc should come under {}. Whenever \\nI\\'m passing inside {}, will go as tag attributes of h1.\\n📢NOTE: React will overwrite everything inside \"root\" and \\nreplaces with whatever given inside render.\\nQ ) Do the below HTML code in React?\\n'), Document(metadata={'source': 'EP-1.pdf', 'page': 6}, page_content='Inception! \\ue081 Namast e-R e act )\\n7\\nTo build the structure like this in React\\n'), Document(metadata={'source': 'EP-2.pdf', 'page': 0}, page_content='Igniting Our App! \\ue081 Namast e-R e act )\\n1\\n🚀\\nIgniting Our App! ( \\nNamaste-React )\\n💡Please make sure to follow along with the whole ”Namaste \\nReact\" series, starting from Episode-1 and continuing \\nthrough each subsequent episode. The notes are designed \\nto provide detailed explanations of each concept along \\nwith examples to ensure thorough understanding. Each \\nepisode builds upon the knowledge gained from the \\nprevious ones, so starting from the beginning will give \\nyou a comprehensive understanding of React development.\\n💡I\\'ve got a quick tip for you. To get the most out of \\nthese notes, it\\'s a good idea to watch Episode-2 first. \\nUnderstanding what ”Akshay” shares in the video will make \\nthese notes way easier to understand. '), Document(metadata={'source': 'EP-2.pdf', 'page': 1}, page_content='Igniting Our App! \\ue081 Namast e-R e act )\\n2\\nSo far, here’s what we have learned in the \\nprevious episode. \\nWe studied about Libraries, Frameworks, their \\ndifferences.\\nWe have also created Hello World! using HTML, \\nJavaScript, and React.\\nWe have also studies about what is Emmet, CORS \\n(Cross Origin)\\nIgniting Our App.\\nQ ) To make our app production ready what should we do?\\nMinify our file (Remove console logs, bundle things up)\\nNeed a server to run things\\n📢NOTE: Minify —> Optimization —>Clean console —> Bundle\\n* Bundlers:\\nA bundler is a tool that bundles our app, packages our app so \\nthat it can be shipped to production.\\nExamples of Bundlers:'), Document(metadata={'source': 'EP-2.pdf', 'page': 2}, page_content='Igniting Our App! \\ue081 Namast e-R e act )\\n3\\nWebpack\\nVite\\nParcel\\n📢NOTE: In create-react-app, the bundler used is webpack.\\n* Package Manager:\\nBundlers are packages. If we want to use a package in our \\ncode, we have to use a package manager.\\nWe use a package manager known as npm or yarn\\n* Configuring the Project:\\nnpm init\\nIt creates a package.json file.\\nNow to install parcel we will do:\\nnpm install -D parcel\\nNow we will get a package-lock.json file.\\n* package.json:\\nPackage.json file is a configuration for NPM. Whatever \\npackages our project needs, we install those packages using \\nnpm install <packageName>.'), Document(metadata={'source': 'EP-2.pdf', 'page': 3}, page_content='Igniting Our App! \\ue081 Namast e-R e act )\\n4\\nOnce package installation is complete, their versions and \\nconfiguration related information is stored as dependencies \\ninside package.json file.\\n* package-lock.json:\\nPackage-lock.json locks the exact version of packages being \\nused in the project.\\nQ ) What is difference between package.json and \\npackage.lock.json?\\nIn package. json we have information about generic version \\nof installed packages whereas in package.lock.json we have \\ninformation about the specific or exact version of \\ninstalled packages.\\n* node_modules:\\nWhich gets installed is like a database for the npm.\\nEvery dependency in node_module will have its package.json.\\nNode modules are very heavy so we should always put this in \\ngit ignore.\\n📢NOTE: Never touch node_modules and package-lock.json\\n* To ignite our app:'), Document(metadata={'source': 'EP-2.pdf', 'page': 4}, page_content='Igniting Our App! \\ue081 Namast e-R e act )\\n5\\nnpx parcel index.html\\nnpx means ‘execute using npm’\\nindex.html is the entry point\\n* Hot Module Replacement (HMR):\\nIt means that parcel will keep a track of all the files which \\nyou are updating.\\nThere is File Watcher Algorithm (written in C++). It keeps \\ntrack of all the files which are changing realtime and it \\ntells the server to reload.\\nThese are all done by PARCEL\\n* parcel-cache:\\nParcel caches code all the time.\\nWhen we run the application, a build is created which takes \\nsome time in ms.\\nIf we make any code changes and save the application, another \\nbuild will be triggered which might take even less time than \\nthe previous build.\\nThis reduction of time is due to parcel cache.\\nParcel immediately loads the code from the cache every time \\nthere is a subsequent build.\\nOn the very first build parcel creates a folder .parcel-\\ncache where it stores the caches in binary codeformat.\\nParcel gives faster build, faster developer experience \\nbecause of caching.'), Document(metadata={'source': 'EP-2.pdf', 'page': 5}, page_content='Igniting Our App! \\ue081 Namast e-R e act )\\n6\\n* dist:\\nIt keeps the files minified for us.\\nWhen bundler builds the app, the build goes into a folder \\ncalled dist.\\nThe `/dist` folder contains the minimized and optimised \\nversion the source code.\\nAlong with the minified code, the /dist folder also comprises \\nof all the compiled modules that may or may not be used with \\nother systems.\\nWhen we run command:\\nnpx parcel index.html\\nThis will create a faster development version of our project \\nand serves it on the server.\\nWhen I tell parcel to make a production build:\\nnpx parcel build index.html'), Document(metadata={'source': 'EP-2.pdf', 'page': 6}, page_content='Igniting Our App! \\ue081 Namast e-R e act )\\n7\\nIt creates a lot of things, minify your file.\\nAnd the parcel will build all the production files to \\nthe dist folder.\\n* Parcel features at a glance:\\nHot Module Replacement (HMR)\\nFile Watcher Algorithm - C++\\nBundling\\nMinify Code\\nCleaning our code\\nDev and production build'), Document(metadata={'source': 'EP-2.pdf', 'page': 7}, page_content='Igniting Our App! \\ue081 Namast e-R e act )\\n8\\nSuper fast build algorithm\\nImage Optimization\\nCaching while development\\nCompression\\nCompatible with older browser versions\\nHttps on dev\\nImage Optimization\\nPort No\\nConsistency Hashing Algorithm\\nZero Config\\nTree Shaking\\n* Transitive Dependencies :\\nWe have our package manager which takes care of our \\ntransitive dependencies of our code.\\nIf we’ve to build a production ready app which uses all \\noptimisations (like minify, bundling, compression, etc), we \\nneed to do all these.\\nBut we can’t do this alone, we need some dependencies on it. \\nThose dependencies are also dependent on other dependencies.'), Document(metadata={'source': 'EP-2.pdf', 'page': 8}, page_content='Igniting Our App! \\ue081 Namast e-R e act )\\n9\\n* Browserslist:\\nBrowserslist is a tool that specifies which browsers should \\nbe supported/compatible in your frontend app.\\nIt makes our code compatible for a lot of browsers.\\nIn package.json file do:\\n'), Document(metadata={'source': 'EP-2.pdf', 'page': 9}, page_content='Igniting Our App! \\ue081 Namast e-R e act )\\n10\\n* Tree Shaking:\\nTree shaking is a process of removing the unwanted code that \\nwe do not use while developing the application. \\nIn computing, tree shaking is a dead code elimination \\ntechnique that is applied when optimizing code.'), Document(metadata={'source': 'samplepptx.pptx'}, page_content='Sample PowerPoint File\\n\\nSt. Cloud Technical College\\n\\n\\n\\nThis is a Sample Slide\\n\\nHere is an outline of bulleted points\\n\\nYou can print out PPT files as handouts using the \\x0bPRINT > \\x0b  PRINT WHAT > HANDOUTS option')]\n"
     ]
    }
   ],
   "source": [
    "from langchain_community.document_loaders import PyPDFLoader\n",
    "from langchain_community.document_loaders import Docx2txtLoader\n",
    "from langchain_community.document_loaders import UnstructuredPowerPointLoader\n",
    "\n",
    "\n",
    "pages = []\n",
    "\n",
    "for file in curr_dir_files:\n",
    "    if file.endswith(\".pdf\"):\n",
    "        pdfLoader = PyPDFLoader(file)\n",
    "        pages += pdfLoader.load()\n",
    "    elif file.endswith(\".docx\"):\n",
    "        docxLoader = Docx2txtLoader(file)\n",
    "        pages += docxLoader.load()\n",
    "    elif file.endswith(\".pptx\"):\n",
    "        pptxLoader = UnstructuredPowerPointLoader(file)\n",
    "        pages += pptxLoader.load()\n",
    "\n",
    "print(pages)\n",
    "\n",
    "\n"
   ]
  },
  {
   "cell_type": "code",
   "execution_count": 3,
   "metadata": {},
   "outputs": [],
   "source": [
    "from langchain_text_splitters import RecursiveCharacterTextSplitter\n",
    "\n",
    "splitter = RecursiveCharacterTextSplitter(chunk_size=2000, chunk_overlap=120)\n",
    "chunks = splitter.split_documents(pages)\n",
    "\n"
   ]
  },
  {
   "cell_type": "code",
   "execution_count": 4,
   "metadata": {},
   "outputs": [
    {
     "name": "stderr",
     "output_type": "stream",
     "text": [
      "C:\\Users\\sanka\\AppData\\Local\\Temp\\ipykernel_12104\\3727459024.py:7: LangChainDeprecationWarning: The class `OllamaEmbeddings` was deprecated in LangChain 0.3.1 and will be removed in 1.0.0. An updated version of the class exists in the :class:`~langchain-ollama package and should be used instead. To use it run `pip install -U :class:`~langchain-ollama` and import as `from :class:`~langchain_ollama import OllamaEmbeddings``.\n",
      "  embedding = OllamaEmbeddings(model=\"llama3.2:3b\")\n"
     ]
    }
   ],
   "source": [
    "from langchain_community.vectorstores import FAISS\n",
    "from langchain_community.embeddings import OllamaEmbeddings\n",
    "\n",
    "# Pull the model first\n",
    "\n",
    "# Create the embedding and vectorstore\n",
    "embedding = OllamaEmbeddings(model=\"llama3.2:3b\")\n",
    "vectorstore2 = FAISS.from_documents(chunks, embedding)"
   ]
  },
  {
   "cell_type": "code",
   "execution_count": 5,
   "metadata": {},
   "outputs": [],
   "source": [
    "retriever = vectorstore2.as_retriever()"
   ]
  },
  {
   "cell_type": "code",
   "execution_count": 6,
   "metadata": {},
   "outputs": [],
   "source": [
    "from langchain_ollama import ChatOllama\n",
    "\n",
    "model = ChatOllama(model=\"llama3.2:3b\", temperature=0)"
   ]
  },
  {
   "cell_type": "code",
   "execution_count": 7,
   "metadata": {},
   "outputs": [],
   "source": [
    "from langchain_core.output_parsers import StrOutputParser\n",
    "\n",
    "parser = StrOutputParser()\n",
    "\n",
    "chain = model | parser\n"
   ]
  },
  {
   "cell_type": "code",
   "execution_count": 8,
   "metadata": {},
   "outputs": [],
   "source": [
    "from langchain.prompts import PromptTemplate\n",
    "\n",
    "template =\"\"\"\n",
    "You are an assistant that provides answers to questions based on\n",
    "a given context. \n",
    "\n",
    "Answer the question based on the context. If you can't answer the\n",
    "question, reply \"I don't know\".\n",
    "\n",
    "Be as concise as possible and go straight to the point.\n",
    "\n",
    "Context: {context}\n",
    "\n",
    "Question: {question}\n",
    "\"\"\"\n",
    "\n",
    "prompt = PromptTemplate.from_template(template)\n",
    "\n"
   ]
  },
  {
   "cell_type": "code",
   "execution_count": 9,
   "metadata": {},
   "outputs": [],
   "source": [
    "chain = prompt | model | parser\n",
    "\n",
    "\n",
    "\n"
   ]
  },
  {
   "cell_type": "code",
   "execution_count": 10,
   "metadata": {},
   "outputs": [],
   "source": [
    "from operator import itemgetter\n",
    "\n",
    "chain = (\n",
    "    {\n",
    "    \"context\" : itemgetter(\"question\") | retriever,\n",
    "    \"question\" : itemgetter(\"question\"),\n",
    "    }\n",
    "    | prompt\n",
    "    | model\n",
    "    | parser\n",
    "    \n",
    ")"
   ]
  },
  {
   "cell_type": "code",
   "execution_count": 13,
   "metadata": {},
   "outputs": [
    {
     "name": "stdout",
     "output_type": "stream",
     "text": [
      "Question: Do we have any ppt file in the context?\n",
      "Ansewer : I don't know.\n",
      "************************\n"
     ]
    }
   ],
   "source": [
    "question = input(\"Enter your question: \")\n",
    "\n",
    "print(f\"Question: {question}\")\n",
    "print(f\"Ansewer : {chain.invoke({'question': question})}\")\n",
    "print(\"************************\")"
   ]
  }
 ],
 "metadata": {
  "kernelspec": {
   "display_name": "myenv",
   "language": "python",
   "name": "python3"
  },
  "language_info": {
   "codemirror_mode": {
    "name": "ipython",
    "version": 3
   },
   "file_extension": ".py",
   "mimetype": "text/x-python",
   "name": "python",
   "nbconvert_exporter": "python",
   "pygments_lexer": "ipython3",
   "version": "3.13.1"
  }
 },
 "nbformat": 4,
 "nbformat_minor": 2
}
